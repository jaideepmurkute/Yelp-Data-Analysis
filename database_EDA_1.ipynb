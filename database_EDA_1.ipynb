{
 "cells": [
  {
   "cell_type": "code",
   "execution_count": 10,
   "metadata": {},
   "outputs": [],
   "source": [
    "import gc\n",
    "import os\n",
    "\n",
    "# from cryptography.fernet import Fernet\n",
    "# import hashlib\n",
    "import pandas as pd\n",
    "import pyarrow.parquet as pq\n",
    "import sqlite3\n",
    "from sqlite3 import Error\n",
    "\n",
    "from CFG import Config\n",
    "from security_config import SecurityConfig"
   ]
  },
  {
   "cell_type": "code",
   "execution_count": 11,
   "metadata": {},
   "outputs": [],
   "source": [
    "config_ref = Config()\n",
    "config = config_ref.get_config()\n"
   ]
  },
  {
   "cell_type": "code",
   "execution_count": 16,
   "metadata": {},
   "outputs": [],
   "source": [
    "\n",
    "table_name = 'business'\n",
    "data_file_path = os.path.join(config['data_dir'], f'{table_name}.parquet')\n",
    "db_path = os.path.join(config['data_db_storage_dir'], config['data_db_name'])\n"
   ]
  },
  {
   "cell_type": "code",
   "execution_count": 64,
   "metadata": {},
   "outputs": [],
   "source": [
    "\n",
    "conn = sqlite3.connect(db_path) \n"
   ]
  },
  {
   "cell_type": "code",
   "execution_count": null,
   "metadata": {},
   "outputs": [],
   "source": []
  },
  {
   "cell_type": "code",
   "execution_count": 65,
   "metadata": {},
   "outputs": [
    {
     "name": "stdout",
     "output_type": "stream",
     "text": [
      "Table already exists. Dropping...\n",
      "Table dropped successfully.\n",
      "Reading data from parquet file...\n"
     ]
    },
    {
     "name": "stdout",
     "output_type": "stream",
     "text": [
      "Creating table business...\n",
      "Table created successfully.\n"
     ]
    }
   ],
   "source": [
    "cursor = conn.cursor()\n",
    "cursor.execute(\"SELECT name FROM sqlite_master WHERE type='table' \\\n",
    "                AND name=?\", (table_name,))\n",
    "result = cursor.fetchone()\n",
    "\n",
    "if result:\n",
    "    print(\"Table already exists. Dropping...\")\n",
    "    cursor.execute(\"DROP TABLE IF EXISTS \" + table_name)\n",
    "    print(\"Table dropped successfully.\")\n",
    "    \n",
    "print(\"Reading data from parquet file...\")\n",
    "df = pq.read_table(data_file_path).to_pandas()\n",
    "\n",
    "# Temporary fix for the issue with the data\n",
    "# 'attributes', 'hours' columns contain dictionary data type values.\n",
    "# sqlite3 does not support dictionary data type. \n",
    "df.drop(['attributes', 'hours'], axis=1, inplace=True) \n",
    "\n",
    "\n",
    "print(f\"Creating table {table_name}...\")\n",
    "df.to_sql(table_name, conn)\n",
    "print(\"Table created successfully.\")\n"
   ]
  },
  {
   "cell_type": "code",
   "execution_count": 66,
   "metadata": {},
   "outputs": [
    {
     "name": "stdout",
     "output_type": "stream",
     "text": [
      "(0, 'Pns2l4eNsfO8kk83dixA6A', 'Abby Rappoport, LAC, CMQ', '1616 Chapala St, Ste 2', 'Santa Barbara', 'CA', '93101', 34.42667770385742, -119.71119689941406, 5.0, 7, 0, 'Doctors, Traditional Chinese Medicine, Naturopathic/Holistic, Acupuncture, Health & Medical, Nutritionists')\n",
      "(1, 'mpf3x-BjTdTEA3yCZrAYPw', 'The UPS Store', '87 Grasso Plaza Shopping Center', 'Affton', 'MO', '63123', 38.551124572753906, -90.335693359375, 3.0, 15, 1, 'Shipping Centers, Local Services, Notaries, Mailbox Centers, Printing Services')\n",
      "(2, 'tUFrWirKiKi_TAnsVWINQQ', 'Target', '5255 E Broadway Blvd', 'Tucson', 'AZ', '85711', 32.223236083984375, -110.88045501708984, 3.5, 22, 0, 'Department Stores, Shopping, Fashion, Home & Garden, Electronics, Furniture Stores')\n",
      "(3, 'MTSW4McQd7CbVtyjqoe9mw', 'St Honore Pastries', '935 Race St', 'Philadelphia', 'PA', '19107', 39.95550537109375, -75.15556335449219, 4.0, 80, 1, 'Restaurants, Food, Bubble Tea, Coffee & Tea, Bakeries')\n",
      "(4, 'mWMc6_wTdE0EUBKIGXDVfA', 'Perkiomen Valley Brewery', '101 Walnut St', 'Green Lane', 'PA', '18054', 40.33818435668945, -75.4716567993164, 4.5, 13, 1, 'Brewpubs, Breweries, Food')\n"
     ]
    }
   ],
   "source": [
    "fetch_sample = 5\n",
    "\n",
    "cursor.execute(f\"SELECT * FROM {table_name} LIMIT {fetch_sample}\".format(table_name))\n",
    "result = cursor.fetchmany(fetch_sample)\n",
    "for row in result:\n",
    "    print(row)\n"
   ]
  },
  {
   "cell_type": "code",
   "execution_count": 67,
   "metadata": {},
   "outputs": [
    {
     "name": "stdout",
     "output_type": "stream",
     "text": [
      "['index', 'business_id', 'name', 'address', 'city', 'state', 'postal_code', 'latitude', 'longitude', 'stars', 'review_count', 'is_open', 'categories']\n"
     ]
    }
   ],
   "source": [
    "cursor.execute(\"PRAGMA table_info({})\".format(table_name))\n",
    "columns = [column[1] for column in cursor.fetchall()]\n",
    "print(columns)\n"
   ]
  },
  {
   "cell_type": "code",
   "execution_count": 68,
   "metadata": {},
   "outputs": [
    {
     "name": "stdout",
     "output_type": "stream",
     "text": [
      "Doctors, Traditional Chinese Medicine, Naturopathic/Holistic, Acupuncture, Health & Medical, Nutritionists\n",
      "Shipping Centers, Local Services, Notaries, Mailbox Centers, Printing Services\n",
      "Department Stores, Shopping, Fashion, Home & Garden, Electronics, Furniture Stores\n",
      "Restaurants, Food, Bubble Tea, Coffee & Tea, Bakeries\n",
      "Brewpubs, Breweries, Food\n"
     ]
    }
   ],
   "source": [
    "cursor.execute(f\"SELECT categories FROM {table_name} LIMIT 5\")\n",
    "result = cursor.fetchall()\n",
    "for row in result:\n",
    "    print(row[0])\n"
   ]
  },
  {
   "cell_type": "code",
   "execution_count": 74,
   "metadata": {},
   "outputs": [
    {
     "name": "stdout",
     "output_type": "stream",
     "text": [
      "(3655, 'x2J-YIFeGZ-nsezzooVA9g', 'Twenty 21', '2005 Market St', 'Philadelphia', 'PA', '19103', 39.95410919189453, -75.17466735839844, 3.0, 8, 0, 'Restaurants')\n",
      "(5873, 'VlrSuulqTFeQfV2PToJGvg', 'Fung Garden', '5118 Gall Blvd', 'Zephyrhills', 'FL', '33542', 28.232059478759766, -82.1803970336914, 3.5, 8, 0, 'Restaurants')\n",
      "(6856, 'mFE9V6LPpsDRUQLEBsBRRA', 'Pearl of East', '2049 W Oregon Ave', 'Philadelphia', 'PA', '19145', 39.918636322021484, -75.18241882324219, 3.0, 17, 1, 'Restaurants')\n",
      "(9801, 'BXUqeFDqvTK2uL6sQd5YnQ', 'Crazy D’s Hot Chicken', '101 University Ter', 'Reno', 'NV', '89503', 39.53628921508789, -119.81822967529297, 3.5, 37, 1, 'Restaurants')\n",
      "(11413, 'Bf1cdbdHXi8Omlkc7KShkg', 'Siam Cafe', '435 Esplanade Ave', 'New Orleans', 'LA', '70116', 29.96196746826172, -90.05735778808594, 4.0, 9, 0, 'Restaurants')\n"
     ]
    }
   ],
   "source": [
    "query = f\"SELECT * FROM {table_name} WHERE 'Restaurants' IN (categories) LIMIT 5\"\n",
    "cursor.execute(query)\n",
    "result = cursor.fetchmany(5)\n",
    "for row in result:\n",
    "    print(row)\n",
    "\n"
   ]
  },
  {
   "cell_type": "code",
   "execution_count": 75,
   "metadata": {},
   "outputs": [
    {
     "name": "stdout",
     "output_type": "stream",
     "text": [
      "(3655, 'x2J-YIFeGZ-nsezzooVA9g', 'Twenty 21', '2005 Market St', 'Philadelphia', 'PA', '19103', 39.95410919189453, -75.17466735839844, 3.0, 8, 0, 'Restaurants')\n",
      "(6856, 'mFE9V6LPpsDRUQLEBsBRRA', 'Pearl of East', '2049 W Oregon Ave', 'Philadelphia', 'PA', '19145', 39.918636322021484, -75.18241882324219, 3.0, 17, 1, 'Restaurants')\n",
      "(14327, 'TCdNYh5tdjoNmA1WMx3ZPg', \"Roselena's\", '1623 E Passyunk Ave', 'Philadelphia', 'PA', '19148', 39.92937469482422, -75.1638412475586, 4.0, 10, 0, 'Restaurants')\n",
      "(25351, 'x2xQUz1YfOzy5A9FRuCpMw', 'Passage To India', '1320 Walnut St', 'Philadelphia', 'PA', '19107', 39.948951721191406, -75.16304016113281, 3.0, 23, 0, 'Restaurants')\n",
      "(40722, 'qaPADjsU6c0Ufho0zdL6Yw', 'Azure', '931 N 2nd St', 'Philadelphia', 'PA', '19123', 39.964820861816406, -75.1402359008789, 3.5, 22, 0, 'Restaurants')\n"
     ]
    }
   ],
   "source": [
    "query = f\"SELECT * FROM {table_name} WHERE 'Restaurants' IN (categories) AND city = 'Philadelphia' LIMIT 5\"\n",
    "cursor.execute(query)\n",
    "result = cursor.fetchall()\n",
    "for row in result:\n",
    "    print(row)\n"
   ]
  },
  {
   "cell_type": "code",
   "execution_count": 69,
   "metadata": {},
   "outputs": [],
   "source": [
    "# conn.close()"
   ]
  },
  {
   "cell_type": "code",
   "execution_count": null,
   "metadata": {},
   "outputs": [],
   "source": []
  },
  {
   "cell_type": "code",
   "execution_count": null,
   "metadata": {},
   "outputs": [],
   "source": []
  }
 ],
 "metadata": {
  "kernelspec": {
   "display_name": "quant_trading_env_1",
   "language": "python",
   "name": "python3"
  },
  "language_info": {
   "codemirror_mode": {
    "name": "ipython",
    "version": 3
   },
   "file_extension": ".py",
   "mimetype": "text/x-python",
   "name": "python",
   "nbconvert_exporter": "python",
   "pygments_lexer": "ipython3",
   "version": "3.12.2"
  }
 },
 "nbformat": 4,
 "nbformat_minor": 2
}
